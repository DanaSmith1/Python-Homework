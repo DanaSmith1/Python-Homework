{
 "cells": [
  {
   "cell_type": "code",
   "execution_count": 46,
   "id": "60d7b1f4-81fa-46bc-ad73-75bcc72ca62d",
   "metadata": {},
   "outputs": [],
   "source": [
    "#import libraries\n",
    "import csv\n",
    "from pathlib import Path"
   ]
  },
  {
   "cell_type": "code",
   "execution_count": 47,
   "id": "c65ebfcc-f55d-4e40-b2d4-dfe13f57ebab",
   "metadata": {},
   "outputs": [],
   "source": [
    "#import csv file and define it\n",
    "csv_path = Path(\"Resources/budget_data.csv\")"
   ]
  },
  {
   "cell_type": "code",
   "execution_count": 48,
   "id": "823547a9-6de1-4af4-a948-9303a1f4842a",
   "metadata": {},
   "outputs": [],
   "source": [
    "# Create empty lists to iterate through specific rows for the following variables\n",
    "total_months = 0\n",
    "total_profit = 0\n",
    "monthly_profit_change = 0\n",
    "previous_value = 0\n",
    "monthly_profit_change_list = []\n",
    "month_of_change_list = []\n",
    "greatest_increase = [\"\",0]\n",
    "greatest_decrease = [\"\",10000]"
   ]
  },
  {
   "cell_type": "code",
   "execution_count": 49,
   "id": "ec50b1d0-0ec9-489b-afcd-8b3dec012415",
   "metadata": {},
   "outputs": [],
   "source": [
    "# Open csv file\n",
    "with open(csv_path) as budget_data:\n",
    "    reader = csv.reader(budget_data)\n",
    "    \n",
    "    header = next(reader)\n",
    "    first_row = next(reader)\n",
    "    total_months = total_months +1\n",
    "    total_profit = int(first_row[1])\n",
    "    previous_value = int(first_row[1])\n",
    "    \n",
    "    for row in reader:\n",
    "        total_months += 1\n",
    "        total_profit = total_profit + int(row[1])\n",
    "        \n",
    "        \n",
    "        monthly_profit_change = int(row[1]) - previous_value\n",
    "        previous_value = int(row[1])\n",
    "        monthly_profit_change_list = monthly_profit_change_list + [monthly_profit_change]\n",
    "        month_of_change_list = month_of_change_list + [row[0]]\n",
    "        \n",
    "        #calculate the greatest increase and greatest decrease \n",
    "        # create an if statement that compares monthly profit change with the greaterst increase or decrease \n",
    "        if monthly_profit_change > greatest_increase[1]:\n",
    "            greatest_increase[0] = row[0]\n",
    "            greatest_increase[1] = monthly_profit_change\n",
    "            \n",
    "        if monthly_profit_change < greatest_decrease[1]:\n",
    "            greatest_decrease[0] = row[0]\n",
    "            greatest_decrease[1] = monthly_profit_change\n",
    "    "
   ]
  },
  {
   "cell_type": "code",
   "execution_count": 50,
   "id": "65599819-3ef4-42ff-ab81-dd90dbbaab4f",
   "metadata": {},
   "outputs": [],
   "source": [
    "#calculate the average monthly change sum(list) / len(list)\n",
    "average_change = sum(monthly_profit_change_list) / len(monthly_profit_change_list)"
   ]
  },
  {
   "cell_type": "code",
   "execution_count": 51,
   "id": "677f74d2-76a5-49d3-8a30-44f785749f63",
   "metadata": {},
   "outputs": [],
   "source": [
    "# Set output file name\n",
    "output_path = 'output.txt'\n",
    "\n",
    "# Open the output path as a file object\n",
    "with open(output_path, 'w') as file:\n",
    "    # Write daily_average to the output file, convert to string\n",
    "    file.write(f\"The total number of {total_months} months)\n",
    "    file.write(f\"With the net total amount {total_profit} Profit/Losses over the entire period\")\n",
    "    file.write(f\"The average change {average_change} per month)\n",
    "    file.write(f\"\n"
   ]
  },
  {
   "cell_type": "code",
   "execution_count": null,
   "id": "9b5e72ed-0d30-4289-96cd-778d4b87c877",
   "metadata": {},
   "outputs": [],
   "source": [
    "Financial Analysis\n",
    "----------------------------\n",
    "Total Months: 86\n",
    "Total: $38382578\n",
    "  Average  Change: $-2315.12\n",
    "Greatest Increase in Profits: Feb-2012 ($1926159)\n",
    "  Greatest Decrease in Profits: Sep-2013 ($-2196167)"
   ]
  }
 ],
 "metadata": {
  "kernelspec": {
   "display_name": "Python 3 (ipykernel)",
   "language": "python",
   "name": "python3"
  },
  "language_info": {
   "codemirror_mode": {
    "name": "ipython",
    "version": 3
   },
   "file_extension": ".py",
   "mimetype": "text/x-python",
   "name": "python",
   "nbconvert_exporter": "python",
   "pygments_lexer": "ipython3",
   "version": "3.7.11"
  }
 },
 "nbformat": 4,
 "nbformat_minor": 5
}
