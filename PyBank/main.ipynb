{
 "cells": [
  {
   "cell_type": "code",
   "execution_count": 7,
   "id": "60d7b1f4-81fa-46bc-ad73-75bcc72ca62d",
   "metadata": {},
   "outputs": [],
   "source": [
    "#import libraries\n",
    "import pandas as pd\n",
    "import numpy as np\n",
    "from pathlib import Path"
   ]
  },
  {
   "cell_type": "code",
   "execution_count": 8,
   "id": "c65ebfcc-f55d-4e40-b2d4-dfe13f57ebab",
   "metadata": {},
   "outputs": [],
   "source": [
    "#import csv file and define it\n",
    "cvspath = Path('Downloads/budget_data (1).csv')"
   ]
  },
  {
   "cell_type": "code",
   "execution_count": 11,
   "id": "a4f5c2ed-a8f3-4bdb-af7d-676c8a3efbd8",
   "metadata": {},
   "outputs": [
    {
     "ename": "SyntaxError",
     "evalue": "can't assign to function call (Temp/ipykernel_16072/3317364969.py, line 1)",
     "output_type": "error",
     "traceback": [
      "\u001b[1;36m  File \u001b[1;32m\"C:\\Users\\Dana0\\AppData\\Local\\Temp/ipykernel_16072/3317364969.py\"\u001b[1;36m, line \u001b[1;32m1\u001b[0m\n\u001b[1;33m    budget_data (1) = pd.read_csv('csvpath')\u001b[0m\n\u001b[1;37m                                            ^\u001b[0m\n\u001b[1;31mSyntaxError\u001b[0m\u001b[1;31m:\u001b[0m can't assign to function call\n"
     ]
    }
   ],
   "source": [
    "budget_data (1) = pd.read_csv(csvpath)"
   ]
  },
  {
   "cell_type": "code",
   "execution_count": null,
   "id": "f39ae624-9947-406a-99c8-2965f9ead0b6",
   "metadata": {},
   "outputs": [],
   "source": []
  }
 ],
 "metadata": {
  "kernelspec": {
   "display_name": "Python 3 (ipykernel)",
   "language": "python",
   "name": "python3"
  },
  "language_info": {
   "codemirror_mode": {
    "name": "ipython",
    "version": 3
   },
   "file_extension": ".py",
   "mimetype": "text/x-python",
   "name": "python",
   "nbconvert_exporter": "python",
   "pygments_lexer": "ipython3",
   "version": "3.7.11"
  }
 },
 "nbformat": 4,
 "nbformat_minor": 5
}
