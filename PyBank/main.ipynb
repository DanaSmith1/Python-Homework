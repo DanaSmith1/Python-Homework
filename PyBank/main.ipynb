{
 "cells": [
  {
   "cell_type": "code",
   "execution_count": 93,
   "id": "60d7b1f4-81fa-46bc-ad73-75bcc72ca62d",
   "metadata": {},
   "outputs": [],
   "source": [
    "#import libraries\n",
    "import csv\n",
    "from pathlib import Path"
   ]
  },
  {
   "cell_type": "code",
   "execution_count": 94,
   "id": "c65ebfcc-f55d-4e40-b2d4-dfe13f57ebab",
   "metadata": {},
   "outputs": [],
   "source": [
    "#import csv file and define it\n",
    "csv_path = Path(\"Resources/budget_data.csv\")"
   ]
  },
  {
   "cell_type": "code",
   "execution_count": 95,
   "id": "823547a9-6de1-4af4-a948-9303a1f4842a",
   "metadata": {},
   "outputs": [],
   "source": [
    "# Create empty lists to iterate through specific rows for the following variables\n",
    "total_months = 0\n",
    "total_profit = 0\n",
    "monthly_profit_change = 0\n",
    "previous_value = 0\n",
    "monthly_profit_change_list = []\n",
    "month_of_change_list = []\n",
    "greatest_increase = [\"\",0]\n",
    "greatest_decrease = [\"\",10000]"
   ]
  },
  {
   "cell_type": "code",
   "execution_count": 105,
   "id": "ec50b1d0-0ec9-489b-afcd-8b3dec012415",
   "metadata": {},
   "outputs": [],
   "source": [
    "#Opening and reading the CSV file\n",
    "with open(csv_path) as budget_data:\n",
    "    reader = csv.reader(budget_data)\n",
    "    \n",
    "    #Reading in header\n",
    "    header = next(reader)\n",
    "    \n",
    "    #Reading in first row\n",
    "    first_row = next(reader)\n",
    "    total_months = total_months +1\n",
    "    total_profit = int(first_row[1])\n",
    "    previous_value = int(first_row[1])\n",
    "    \n",
    "    #Row of Data\n",
    "    for row in reader:\n",
    "        #Dates\n",
    "        dates.append(row[0])\n",
    "        \n",
    "        \n",
    "        #Total number of \n",
    "        total_months += 1\n",
    "        total_profit = total_profit + int(row[1])\n",
    "        \n",
    "        \n",
    "        monthly_profit_change = int(row[1]) - previous_value\n",
    "        previous_value = int(row[1])\n",
    "        monthly_profit_change_list = monthly_profit_change_list + [monthly_profit_change]\n",
    "        month_of_change_list = month_of_change_list + [row[0]]\n",
    "        \n",
    "        #calculate the greatest increase and greatest decrease \n",
    "        # create an if statement that compares monthly profit change with the greaterst increase or decrease \n",
    "        if monthly_profit_change > greatest_increase[1]:\n",
    "            greatest_increase[0] = row[0]\n",
    "            greatest_increase[1] = monthly_profit_change\n",
    "            \n",
    "        if monthly_profit_change < greatest_decrease[1]:\n",
    "            greatest_decrease[0] = row[0]\n",
    "            greatest_decrease[1] = monthly_profit_change\n",
    "            "
   ]
  },
  {
   "cell_type": "code",
   "execution_count": 106,
   "id": "65599819-3ef4-42ff-ab81-dd90dbbaab4f",
   "metadata": {},
   "outputs": [],
   "source": [
    "#calculate the average monthly change sum(list) / len(list)\n",
    "average_change = sum(monthly_profit_change_list) / len(monthly_profit_change_list)"
   ]
  },
  {
   "cell_type": "code",
   "execution_count": 107,
   "id": "9b5e72ed-0d30-4289-96cd-778d4b87c877",
   "metadata": {},
   "outputs": [
    {
     "name": "stdout",
     "output_type": "stream",
     "text": [
      "Financial Analysis\n",
      "\n",
      "----------------------------\n",
      "\n",
      "Total months: 103\n",
      "\n",
      "Total: 38382578\n",
      "\n",
      "Average Change -10388.30612244898\n",
      "\n",
      "Greatest Increase in Profits: 532869\n",
      "\n",
      "Greatest Decrease in Profits: 532869\n",
      "\n"
     ]
    }
   ],
   "source": [
    "# Set output file name\n",
    "output_path = 'output.txt'\n",
    "\n",
    "# Open the output path as a file object\n",
    "with open(output_path, 'w') as file:\n",
    "    # Write daily_average to the output file, convert to string\n",
    "    file.write(f\"Financial Analysis\\n\")\n",
    "    file.write(f\"----------------------------\\n\")\n",
    "    file.write(f\"Total months: {total_months}\\n\")\n",
    "    file.write(f\"Total: {total_profit}\\n\")\n",
    "    file.write(f\"Average Change {average_change}\\n\")\n",
    "    file.write(f\"Greatest Increase in Profits: {monthly_profit_change}\\n\")\n",
    "    file.write(f\"Greatest Decrease in Profits: {monthly_profit_change}\\n\") \n",
    "    \n",
    "    print(f\"Financial Analysis\\n\")\n",
    "    print(f\"----------------------------\\n\")\n",
    "    print(f\"Total months: {total_months}\\n\")\n",
    "    print(f\"Total: {total_profit}\\n\")\n",
    "    print(f\"Average Change {average_change}\\n\")\n",
    "    print(f\"Greatest Increase in Profits: {monthly_profit_change}\\n\")\n",
    "    print(f\"Greatest Decrease in Profits: {monthly_profit_change}\\n\") \n",
    "\n"
   ]
  },
  {
   "cell_type": "code",
   "execution_count": null,
   "id": "4c08ad8a-0a8c-4179-8aa0-af7926d7cca3",
   "metadata": {},
   "outputs": [],
   "source": []
  },
  {
   "cell_type": "code",
   "execution_count": null,
   "id": "dee2f9ee-c2fb-4973-b815-65613d22911e",
   "metadata": {},
   "outputs": [],
   "source": []
  }
 ],
 "metadata": {
  "kernelspec": {
   "display_name": "Python 3 (ipykernel)",
   "language": "python",
   "name": "python3"
  },
  "language_info": {
   "codemirror_mode": {
    "name": "ipython",
    "version": 3
   },
   "file_extension": ".py",
   "mimetype": "text/x-python",
   "name": "python",
   "nbconvert_exporter": "python",
   "pygments_lexer": "ipython3",
   "version": "3.7.11"
  }
 },
 "nbformat": 4,
 "nbformat_minor": 5
}
