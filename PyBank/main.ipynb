{
 "cells": [
  {
   "cell_type": "code",
   "execution_count": 7,
   "id": "60d7b1f4-81fa-46bc-ad73-75bcc72ca62d",
   "metadata": {},
   "outputs": [],
   "source": [
    "#import libraries\n",
    "import pandas as pd\n",
    "import numpy as np\n",
    "from pathlib import Path"
   ]
  },
  {
   "cell_type": "code",
   "execution_count": 89,
   "id": "c65ebfcc-f55d-4e40-b2d4-dfe13f57ebab",
   "metadata": {},
   "outputs": [],
   "source": [
    "#import csv file and define it\n",
    "csv_path = Path(\"C:/Users/Dana0/Downloads/budget_data.csv\")\n",
    "budget_data = pd.read_csv(csv_path)"
   ]
  },
  {
   "cell_type": "code",
   "execution_count": null,
   "id": "823547a9-6de1-4af4-a948-9303a1f4842a",
   "metadata": {},
   "outputs": [],
   "source": []
  }
 ],
 "metadata": {
  "kernelspec": {
   "display_name": "Python 3 (ipykernel)",
   "language": "python",
   "name": "python3"
  },
  "language_info": {
   "codemirror_mode": {
    "name": "ipython",
    "version": 3
   },
   "file_extension": ".py",
   "mimetype": "text/x-python",
   "name": "python",
   "nbconvert_exporter": "python",
   "pygments_lexer": "ipython3",
   "version": "3.7.11"
  }
 },
 "nbformat": 4,
 "nbformat_minor": 5
}
